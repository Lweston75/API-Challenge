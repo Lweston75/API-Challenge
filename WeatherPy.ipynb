{
 "cells": [
  {
   "cell_type": "markdown",
   "metadata": {},
   "source": [
    "# WeatherPy\n",
    "----\n",
    "\n",
    "#### Observations\n",
    "* Instructions have been included for each segment. You do not have to follow them exactly, but they are included to help you think through the steps."
   ]
  },
  {
   "cell_type": "code",
   "execution_count": 1,
   "metadata": {
    "scrolled": true
   },
   "outputs": [],
   "source": [
    "import matplotlib.pyplot as plt\n",
    "import pandas as pd\n",
    "import numpy as np\n",
    "import json\n",
    "import requests\n",
    "import time\n",
    "from scipy.stats import linregress\n",
    "\n",
    "from api_keys import weather_api_key\n",
    "\n",
    "from citipy import citipy\n",
    "\n",
    "output_data_file = \"output_data/cities.csv\"\n",
    "\n",
    "lat_range = (-90, 90)\n",
    "lng_range = (-180, 180)"
   ]
  },
  {
   "cell_type": "markdown",
   "metadata": {},
   "source": [
    "## Generate Cities List"
   ]
  },
  {
   "cell_type": "code",
   "execution_count": 2,
   "metadata": {},
   "outputs": [
    {
     "data": {
      "text/plain": [
       "631"
      ]
     },
     "execution_count": 2,
     "metadata": {},
     "output_type": "execute_result"
    }
   ],
   "source": [
    "lat_lngs = []\n",
    "cities = []\n",
    "while len(cities) < 500:\n",
    "    lats = np.random.uniform(low=-90.000, high=90.000, size=1500)\n",
    "    lngs = np.random.uniform(low=-180.000, high=180.000, size=1500)\n",
    "    lat_lngs = zip(lats, lngs)\n",
    "    \n",
    "    for lat_lng in lat_lngs:\n",
    "        city = citipy.nearest_city(lat_lng[0], lat_lng[1]).city_name\n",
    "        if city not in cities:\n",
    "            cities.append(city)\n",
    "len(cities)    "
   ]
  },
  {
   "cell_type": "markdown",
   "metadata": {},
   "source": [
    "### Perform API Calls\n",
    "* Perform a weather check on each city using a series of successive API calls.\n",
    "* Include a print log of each city as it'sbeing processed (with the city number and city name).\n"
   ]
  },
  {
   "cell_type": "code",
   "execution_count": 3,
   "metadata": {},
   "outputs": [
    {
     "name": "stdout",
     "output_type": "stream",
     "text": [
      "Beginning Data Retrieval\n",
      "-----------------------------\n",
      "\n",
      "Processing Record 1 | katangli\n",
      "Processing Record 2 | punta arenas\n",
      "City not found. Skipping...\n",
      "Processing Record 4 | conceicao do araguaia\n",
      "Processing Record 5 | albany\n",
      "Processing Record 6 | bluff\n",
      "Processing Record 7 | ilulissat\n",
      "Processing Record 8 | west wendover\n",
      "Processing Record 9 | kapaa\n",
      "Processing Record 10 | cape town\n",
      "Processing Record 11 | biak\n",
      "Processing Record 12 | port blair\n",
      "Processing Record 13 | bambous virieux\n",
      "City not found. Skipping...\n",
      "City not found. Skipping...\n",
      "Processing Record 16 | kijang\n",
      "Processing Record 17 | aklavik\n",
      "Processing Record 18 | misratah\n",
      "Processing Record 19 | lasa\n",
      "Processing Record 20 | kamakhyanagar\n",
      "Processing Record 21 | eastlake\n",
      "Processing Record 22 | laguna\n",
      "City not found. Skipping...\n",
      "Processing Record 24 | san cristobal\n",
      "Processing Record 25 | leua\n",
      "Processing Record 26 | innisfail\n",
      "Processing Record 27 | busselton\n",
      "Processing Record 28 | faya\n",
      "Processing Record 29 | esperance\n",
      "Processing Record 30 | husavik\n",
      "Processing Record 31 | suicheng\n",
      "Processing Record 32 | khatanga\n",
      "Processing Record 33 | hermanus\n",
      "Processing Record 34 | dikson\n",
      "Processing Record 35 | cherskiy\n",
      "Processing Record 36 | ushuaia\n",
      "Processing Record 37 | mataura\n",
      "Processing Record 38 | cidreira\n",
      "Processing Record 39 | ponta do sol\n",
      "Processing Record 40 | khandyga\n",
      "City not found. Skipping...\n",
      "Processing Record 42 | vestmannaeyjar\n",
      "Processing Record 43 | upernavik\n",
      "Processing Record 44 | svetlyy\n",
      "Processing Record 45 | castro\n",
      "Processing Record 46 | ambilobe\n",
      "Processing Record 47 | saskylakh\n",
      "Processing Record 48 | wanaka\n",
      "Processing Record 49 | port alfred\n",
      "Processing Record 50 | pisco\n",
      "Processing Record 51 | sitka\n",
      "City not found. Skipping...\n",
      "Processing Record 53 | praia da vitoria\n",
      "Processing Record 54 | tuatapere\n",
      "Processing Record 55 | kahului\n",
      "Processing Record 56 | buenos aires\n",
      "Processing Record 57 | beringovskiy\n",
      "Processing Record 58 | boa vista\n",
      "Processing Record 59 | ancud\n",
      "Processing Record 60 | leshan\n",
      "City not found. Skipping...\n",
      "Processing Record 62 | novorzhev\n",
      "Processing Record 63 | kamyshin\n",
      "Processing Record 64 | kimbe\n",
      "Processing Record 65 | ler\n",
      "Processing Record 66 | puerto ayora\n",
      "Processing Record 67 | san patricio\n",
      "Processing Record 68 | bathsheba\n",
      "Processing Record 69 | carnarvon\n",
      "Processing Record 70 | xinmin\n",
      "Processing Record 71 | vaini\n",
      "Processing Record 72 | east london\n",
      "Processing Record 73 | faanui\n",
      "Processing Record 74 | barrow\n",
      "Processing Record 75 | turka\n",
      "Processing Record 76 | ostrovnoy\n",
      "Processing Record 77 | comodoro rivadavia\n",
      "Processing Record 78 | pochutla\n",
      "Processing Record 79 | plettenberg bay\n",
      "Processing Record 80 | marystown\n",
      "Processing Record 81 | ribeira grande\n",
      "Processing Record 82 | gucheng\n",
      "Processing Record 83 | meulaboh\n",
      "Processing Record 84 | bredasdorp\n",
      "Processing Record 85 | airai\n",
      "Processing Record 86 | clarksburg\n",
      "Processing Record 87 | conde\n",
      "Processing Record 88 | jalingo\n",
      "Processing Record 89 | rikitea\n",
      "Processing Record 90 | tazmalt\n",
      "Processing Record 91 | agadez\n",
      "City not found. Skipping...\n",
      "Processing Record 93 | atuona\n",
      "City not found. Skipping...\n",
      "Processing Record 95 | lebu\n",
      "Processing Record 96 | mar del plata\n",
      "City not found. Skipping...\n",
      "Processing Record 98 | tessalit\n",
      "Processing Record 99 | sao joao da barra\n",
      "Processing Record 100 | kailua\n",
      "Processing Record 101 | susanville\n",
      "Processing Record 102 | teguise\n",
      "Processing Record 103 | khiri mat\n",
      "Processing Record 104 | port lincoln\n",
      "Processing Record 105 | prince rupert\n",
      "Processing Record 106 | new norfolk\n",
      "Processing Record 107 | tasiilaq\n",
      "Processing Record 108 | butaritari\n",
      "Processing Record 109 | sibolga\n",
      "Processing Record 110 | san dona di piave\n",
      "Processing Record 111 | kloulklubed\n",
      "Processing Record 112 | ukiah\n",
      "Processing Record 113 | taoudenni\n",
      "City not found. Skipping...\n",
      "Processing Record 115 | tiksi\n",
      "Processing Record 116 | vila franca do campo\n",
      "Processing Record 117 | rocha\n",
      "Processing Record 118 | rorvik\n",
      "Processing Record 119 | mizdah\n",
      "Processing Record 120 | galveston\n",
      "Processing Record 121 | fort nelson\n",
      "Processing Record 122 | georgetown\n",
      "Processing Record 123 | kodiak\n",
      "Processing Record 124 | kavieng\n",
      "Processing Record 125 | tena\n",
      "Processing Record 126 | do gonbadan\n",
      "Processing Record 127 | soverato\n",
      "Processing Record 128 | port-gentil\n",
      "Processing Record 129 | yellowknife\n",
      "Processing Record 130 | los llanos de aridane\n",
      "Processing Record 131 | bethel\n",
      "Processing Record 132 | havoysund\n",
      "Processing Record 133 | katsuura\n",
      "Processing Record 134 | hilo\n",
      "Processing Record 135 | muisne\n",
      "Processing Record 136 | hoquiam\n",
      "Processing Record 137 | yulara\n",
      "Processing Record 138 | berdigestyakh\n",
      "Processing Record 139 | saint george\n",
      "Processing Record 140 | parvatsar\n",
      "Processing Record 141 | torbay\n",
      "Processing Record 142 | talnakh\n",
      "Processing Record 143 | petropavlovsk-kamchatskiy\n",
      "Processing Record 144 | kaitangata\n",
      "Processing Record 145 | shingu\n",
      "Processing Record 146 | avarua\n",
      "City not found. Skipping...\n",
      "Processing Record 148 | tuktoyaktuk\n",
      "Processing Record 149 | moshi\n",
      "Processing Record 150 | den helder\n",
      "Processing Record 151 | karwar\n",
      "Processing Record 152 | geraldton\n",
      "City not found. Skipping...\n",
      "Processing Record 154 | atherton\n",
      "Processing Record 155 | katherine\n",
      "Processing Record 156 | amahai\n",
      "Processing Record 157 | mehamn\n",
      "Processing Record 158 | hobart\n",
      "Processing Record 159 | qaanaaq\n",
      "Processing Record 160 | constitucion\n",
      "Processing Record 161 | roma\n",
      "Processing Record 162 | hami\n",
      "Processing Record 163 | salinopolis\n",
      "Processing Record 164 | lompoc\n",
      "Processing Record 165 | tual\n",
      "Processing Record 166 | thompson\n",
      "City not found. Skipping...\n",
      "City not found. Skipping...\n",
      "Processing Record 169 | camacha\n",
      "Processing Record 170 | elko\n",
      "Processing Record 171 | gigmoto\n",
      "Processing Record 172 | rudnogorsk\n",
      "Processing Record 173 | kalawit\n",
      "Processing Record 174 | mount gambier\n",
      "Processing Record 175 | riviere-au-renard\n",
      "Processing Record 176 | amapa\n",
      "Processing Record 177 | jamestown\n",
      "Processing Record 178 | chicama\n",
      "Processing Record 179 | ust-koksa\n",
      "Processing Record 180 | leningradskiy\n",
      "Processing Record 181 | zhigansk\n",
      "Processing Record 182 | longyearbyen\n",
      "Processing Record 183 | tshikapa\n",
      "Processing Record 184 | victor harbor\n",
      "Processing Record 185 | saint-philippe\n",
      "Processing Record 186 | lagoa\n",
      "City not found. Skipping...\n",
      "Processing Record 188 | richards bay\n",
      "Processing Record 189 | taltal\n",
      "Processing Record 190 | vieques\n",
      "Processing Record 191 | dhule\n",
      "Processing Record 192 | el alto\n",
      "Processing Record 193 | flin flon\n",
      "Processing Record 194 | hithadhoo\n",
      "Processing Record 195 | marzuq\n",
      "Processing Record 196 | te anau\n",
      "Processing Record 197 | kaeo\n",
      "Processing Record 198 | lobito\n",
      "Processing Record 199 | taksimo\n",
      "Processing Record 200 | parabel\n",
      "Processing Record 201 | najran\n",
      "Processing Record 202 | rawson\n",
      "Processing Record 203 | mayo\n",
      "Processing Record 204 | chuy\n",
      "Processing Record 205 | shimoda\n",
      "Processing Record 206 | bilaspur\n",
      "Processing Record 207 | tateyama\n",
      "Processing Record 208 | pechenga\n",
      "Processing Record 209 | millerovo\n",
      "Processing Record 210 | klaksvik\n",
      "Processing Record 211 | kruisfontein\n",
      "Processing Record 212 | hengshui\n",
      "Processing Record 213 | sechura\n",
      "Processing Record 214 | requena\n",
      "Processing Record 215 | antalaha\n",
      "Processing Record 216 | waingapu\n",
      "Processing Record 217 | cockburn town\n",
      "City not found. Skipping...\n",
      "Processing Record 219 | marsabit\n",
      "Processing Record 220 | sao filipe\n",
      "Processing Record 221 | riyadh\n",
      "Processing Record 222 | halkirk\n",
      "Processing Record 223 | severo-kurilsk\n",
      "Processing Record 224 | narsaq\n",
      "Processing Record 225 | port elizabeth\n",
      "Processing Record 226 | palmer\n",
      "Processing Record 227 | luan\n",
      "Processing Record 228 | yuanping\n",
      "Processing Record 229 | ust-kulom\n",
      "City not found. Skipping...\n",
      "Processing Record 231 | saint-augustin\n",
      "Processing Record 232 | korla\n",
      "Processing Record 233 | sokol\n",
      "Processing Record 234 | agueda\n",
      "Processing Record 235 | fortuna\n",
      "Processing Record 236 | luderitz\n",
      "Processing Record 237 | portland\n",
      "Processing Record 238 | baruun-urt\n",
      "Processing Record 239 | tautira\n",
      "Processing Record 240 | mahebourg\n",
      "Processing Record 241 | ashtian\n",
      "Processing Record 242 | berekum\n",
      "Processing Record 243 | deputatskiy\n",
      "Processing Record 244 | muroto\n",
      "Processing Record 245 | souillac\n",
      "Processing Record 246 | olafsvik\n",
      "Processing Record 247 | iqaluit\n",
      "Processing Record 248 | piranhas\n",
      "Processing Record 249 | adoni\n",
      "Processing Record 250 | volot\n",
      "Processing Record 251 | haines junction\n"
     ]
    },
    {
     "name": "stdout",
     "output_type": "stream",
     "text": [
      "Processing Record 252 | lagdo\n",
      "Processing Record 253 | udachnyy\n",
      "Processing Record 254 | vardo\n",
      "Processing Record 255 | bubaque\n",
      "City not found. Skipping...\n",
      "Processing Record 257 | san quintin\n",
      "Processing Record 258 | jalu\n",
      "City not found. Skipping...\n",
      "City not found. Skipping...\n",
      "Processing Record 261 | qeshm\n",
      "Processing Record 262 | komsomolskiy\n",
      "Processing Record 263 | severodvinsk\n",
      "Processing Record 264 | gao\n",
      "Processing Record 265 | fairbanks\n",
      "Processing Record 266 | sistranda\n",
      "Processing Record 267 | khuzhir\n",
      "Processing Record 268 | rundu\n",
      "City not found. Skipping...\n",
      "Processing Record 270 | grindavik\n",
      "Processing Record 271 | turtas\n",
      "Processing Record 272 | lockport\n",
      "Processing Record 273 | vao\n",
      "Processing Record 274 | nanortalik\n",
      "Processing Record 275 | padang\n",
      "Processing Record 276 | saint-joseph\n",
      "Processing Record 277 | college\n",
      "Processing Record 278 | muros\n",
      "Processing Record 279 | saint-georges\n",
      "Processing Record 280 | soyo\n",
      "City not found. Skipping...\n",
      "Processing Record 282 | arraial do cabo\n",
      "Processing Record 283 | miguel hidalgo\n",
      "Processing Record 284 | malakal\n",
      "Processing Record 285 | srednekolymsk\n",
      "Processing Record 286 | atasu\n",
      "Processing Record 287 | dasoguz\n",
      "Processing Record 288 | ponta delgada\n",
      "Processing Record 289 | nuuk\n",
      "Processing Record 290 | waitati\n",
      "Processing Record 291 | bandar-e lengeh\n",
      "Processing Record 292 | yushan\n",
      "Processing Record 293 | nikolskoye\n",
      "Processing Record 294 | kununurra\n",
      "Processing Record 295 | vicuna\n",
      "Processing Record 296 | priverno\n",
      "Processing Record 297 | kaoma\n",
      "Processing Record 298 | otane\n",
      "Processing Record 299 | kokoda\n",
      "Processing Record 300 | ocean city\n",
      "Processing Record 301 | pilar\n",
      "City not found. Skipping...\n",
      "Processing Record 303 | fuyu\n",
      "Processing Record 304 | mount isa\n",
      "Processing Record 305 | naze\n",
      "City not found. Skipping...\n",
      "Processing Record 307 | antofagasta\n",
      "Processing Record 308 | dunedin\n",
      "Processing Record 309 | peniche\n",
      "Processing Record 310 | westport\n",
      "City not found. Skipping...\n",
      "Processing Record 312 | mionica\n",
      "Processing Record 313 | shelburne\n",
      "City not found. Skipping...\n",
      "Processing Record 315 | kannangad\n",
      "Processing Record 316 | stonewall\n",
      "Processing Record 317 | billings\n",
      "Processing Record 318 | almunecar\n",
      "Processing Record 319 | aban\n",
      "Processing Record 320 | yelan-kolenovskiy\n",
      "Processing Record 321 | englehart\n",
      "Processing Record 322 | lufilufi\n",
      "Processing Record 323 | moerai\n",
      "Processing Record 324 | imeni babushkina\n",
      "Processing Record 325 | saint-francois\n",
      "Processing Record 326 | bilibino\n",
      "Processing Record 327 | kabanjahe\n",
      "Processing Record 328 | amnat charoen\n",
      "Processing Record 329 | kumano\n",
      "Processing Record 330 | otjiwarongo\n",
      "Processing Record 331 | tura\n",
      "Processing Record 332 | asau\n",
      "Processing Record 333 | vila velha\n",
      "Processing Record 334 | palana\n",
      "Processing Record 335 | brookhaven\n",
      "Processing Record 336 | itarema\n",
      "Processing Record 337 | grand-santi\n",
      "City not found. Skipping...\n",
      "Processing Record 339 | norman wells\n",
      "City not found. Skipping...\n",
      "Processing Record 341 | provideniya\n",
      "Processing Record 342 | hofn\n",
      "Processing Record 343 | aksarka\n",
      "Processing Record 344 | codrington\n",
      "City not found. Skipping...\n",
      "Processing Record 346 | chipinge\n",
      "Processing Record 347 | camana\n",
      "Processing Record 348 | hambantota\n",
      "Processing Record 349 | villa bruzual\n",
      "Processing Record 350 | afua\n",
      "Processing Record 351 | houffalize\n",
      "Processing Record 352 | sao jose do belmonte\n",
      "Processing Record 353 | siddipet\n",
      "Processing Record 354 | buraydah\n",
      "Processing Record 355 | puri\n",
      "Processing Record 356 | jumla\n",
      "Processing Record 357 | tambun\n",
      "Processing Record 358 | goderich\n",
      "Processing Record 359 | mbandaka\n",
      "Processing Record 360 | xam nua\n",
      "Processing Record 361 | molina\n",
      "Processing Record 362 | astoria\n",
      "Processing Record 363 | rodrigues alves\n",
      "Processing Record 364 | teguldet\n",
      "Processing Record 365 | harper\n",
      "Processing Record 366 | manaus\n",
      "Processing Record 367 | ishigaki\n",
      "Processing Record 368 | takhtamygda\n",
      "Processing Record 369 | gravdal\n",
      "City not found. Skipping...\n",
      "Processing Record 371 | kautokeino\n",
      "Processing Record 372 | shieli\n",
      "Processing Record 373 | stykkisholmur\n",
      "Processing Record 374 | nyrob\n",
      "Processing Record 375 | kholodnyy\n",
      "Processing Record 376 | pevek\n",
      "Processing Record 377 | ixtapa\n",
      "Processing Record 378 | moree\n",
      "Processing Record 379 | ugoofaaru\n",
      "Processing Record 380 | vesyegonsk\n",
      "Processing Record 381 | blackwater\n",
      "Processing Record 382 | teahupoo\n",
      "Processing Record 383 | hamilton\n",
      "Processing Record 384 | la ferte-bernard\n",
      "Processing Record 385 | simao\n",
      "Processing Record 386 | praia\n",
      "City not found. Skipping...\n",
      "Processing Record 388 | namibe\n",
      "Processing Record 389 | wageningen\n",
      "Processing Record 390 | lorengau\n",
      "Processing Record 391 | storforshei\n",
      "Processing Record 392 | inhambane\n",
      "Processing Record 393 | lata\n",
      "Processing Record 394 | iquique\n",
      "Processing Record 395 | ongandjera\n",
      "Processing Record 396 | manggar\n",
      "Processing Record 397 | swan hill\n",
      "Processing Record 398 | guerrero negro\n",
      "Processing Record 399 | kasongo-lunda\n",
      "Processing Record 400 | port hedland\n",
      "City not found. Skipping...\n",
      "Processing Record 402 | cayenne\n",
      "Processing Record 403 | nishihara\n",
      "Processing Record 404 | montepuez\n",
      "Processing Record 405 | acara\n",
      "Processing Record 406 | louiseville\n",
      "Processing Record 407 | prokopyevsk\n",
      "Processing Record 408 | tezu\n",
      "Processing Record 409 | kakching\n",
      "Processing Record 410 | port hueneme\n",
      "Processing Record 411 | jurado\n",
      "Processing Record 412 | road town\n",
      "Processing Record 413 | ambon\n",
      "Processing Record 414 | manaira\n",
      "Processing Record 415 | avenal\n",
      "Processing Record 416 | maltahohe\n",
      "Processing Record 417 | asyut\n",
      "City not found. Skipping...\n",
      "City not found. Skipping...\n",
      "Processing Record 420 | george town\n",
      "Processing Record 421 | sakakah\n",
      "Processing Record 422 | takoradi\n",
      "Processing Record 423 | krasnoshchekovo\n",
      "Processing Record 424 | smithers\n",
      "Processing Record 425 | businga\n",
      "Processing Record 426 | tarko-sale\n",
      "Processing Record 427 | baoshan\n",
      "Processing Record 428 | ahuimanu\n",
      "Processing Record 429 | arlit\n",
      "Processing Record 430 | salalah\n",
      "Processing Record 431 | puerto escondido\n",
      "Processing Record 432 | omsukchan\n",
      "Processing Record 433 | krasnoselkup\n",
      "Processing Record 434 | nizwa\n",
      "Processing Record 435 | goundam\n",
      "Processing Record 436 | roald\n",
      "Processing Record 437 | havelock\n",
      "Processing Record 438 | sungaipenuh\n",
      "Processing Record 439 | la rioja\n",
      "Processing Record 440 | manukan\n",
      "Processing Record 441 | hasaki\n",
      "Processing Record 442 | sisimiut\n",
      "Processing Record 443 | jasper\n",
      "Processing Record 444 | semirom\n",
      "Processing Record 445 | mahbubnagar\n",
      "Processing Record 446 | pangnirtung\n",
      "Processing Record 447 | kysyl-syr\n",
      "Processing Record 448 | semnan\n",
      "Processing Record 449 | zaysan\n",
      "Processing Record 450 | vernon\n",
      "Processing Record 451 | karatsu\n",
      "Processing Record 452 | san andres\n",
      "Processing Record 453 | waitakere\n",
      "Processing Record 454 | coquimbo\n",
      "Processing Record 455 | puro\n",
      "Processing Record 456 | skjervoy\n",
      "Processing Record 457 | uxbridge\n",
      "Processing Record 458 | yokadouma\n",
      "Processing Record 459 | punta alta\n",
      "Processing Record 460 | sola\n",
      "Processing Record 461 | awbari\n",
      "Processing Record 462 | smolenskaya\n",
      "Processing Record 463 | grand gaube\n",
      "Processing Record 464 | acapulco\n",
      "Processing Record 465 | morvi\n",
      "Processing Record 466 | povenets\n",
      "Processing Record 467 | tuyen quang\n",
      "Processing Record 468 | bronnoysund\n",
      "Processing Record 469 | montabaur\n",
      "Processing Record 470 | havre-saint-pierre\n",
      "Processing Record 471 | sibu\n",
      "Processing Record 472 | denpasar\n",
      "Processing Record 473 | ausa\n",
      "Processing Record 474 | kavaratti\n",
      "Processing Record 475 | high prairie\n",
      "Processing Record 476 | urusha\n",
      "Processing Record 477 | north bend\n",
      "Processing Record 478 | katobu\n",
      "Processing Record 479 | yamada\n",
      "Processing Record 480 | gerash\n",
      "Processing Record 481 | broome\n",
      "Processing Record 482 | vredendal\n",
      "Processing Record 483 | emerald\n",
      "Processing Record 484 | sorong\n",
      "Processing Record 485 | price\n",
      "Processing Record 486 | kommunar\n",
      "Processing Record 487 | guisa\n",
      "Processing Record 488 | canavieiras\n",
      "Processing Record 489 | hearst\n",
      "Processing Record 490 | oktyabrskiy\n",
      "Processing Record 491 | valparaiso\n",
      "Processing Record 492 | copiapo\n",
      "Processing Record 493 | seoul\n",
      "Processing Record 494 | atar\n",
      "Processing Record 495 | ewo\n",
      "City not found. Skipping...\n",
      "Processing Record 497 | shache\n",
      "Processing Record 498 | vale\n",
      "Processing Record 499 | smyshlyayevka\n",
      "Processing Record 500 | coolum beach\n",
      "Processing Record 501 | islamkot\n"
     ]
    },
    {
     "name": "stdout",
     "output_type": "stream",
     "text": [
      "Processing Record 502 | sumbawanga\n",
      "Processing Record 503 | fallon\n",
      "Processing Record 504 | shu\n",
      "Processing Record 505 | payson\n",
      "Processing Record 506 | yumen\n",
      "City not found. Skipping...\n",
      "Processing Record 508 | merrill\n",
      "Processing Record 509 | hovd\n",
      "Processing Record 510 | tecoanapa\n",
      "Processing Record 511 | nantucket\n",
      "Processing Record 512 | necochea\n",
      "Processing Record 513 | kosh-agach\n",
      "Processing Record 514 | sayat\n",
      "Processing Record 515 | santa cruz\n",
      "Processing Record 516 | abha\n",
      "Processing Record 517 | tigil\n",
      "Processing Record 518 | altay\n",
      "City not found. Skipping...\n",
      "Processing Record 520 | trogir\n",
      "Processing Record 521 | northam\n",
      "Processing Record 522 | kenai\n",
      "City not found. Skipping...\n",
      "Processing Record 524 | taranto\n",
      "Processing Record 525 | sur\n",
      "Processing Record 526 | chokurdakh\n",
      "Processing Record 527 | lavrentiya\n",
      "Processing Record 528 | bengkulu\n",
      "Processing Record 529 | kolyvan\n",
      "Processing Record 530 | itoman\n",
      "Processing Record 531 | lake city\n",
      "Processing Record 532 | brae\n",
      "Processing Record 533 | kayerkan\n",
      "Processing Record 534 | vostok\n",
      "Processing Record 535 | poquoson\n",
      "Processing Record 536 | ulaanbaatar\n",
      "City not found. Skipping...\n",
      "City not found. Skipping...\n",
      "Processing Record 539 | amalapuram\n",
      "Processing Record 540 | huarmey\n",
      "Processing Record 541 | beyneu\n",
      "Processing Record 542 | paine\n",
      "Processing Record 543 | san matias\n",
      "Processing Record 544 | akureyri\n",
      "Processing Record 545 | cabo san lucas\n",
      "City not found. Skipping...\n",
      "Processing Record 547 | tulnici\n",
      "Processing Record 548 | nizhniy baskunchak\n",
      "Processing Record 549 | abalak\n",
      "Processing Record 550 | dukat\n",
      "Processing Record 551 | victoria\n",
      "Processing Record 552 | odda\n",
      "Processing Record 553 | myatlevo\n",
      "Processing Record 554 | titay\n",
      "Processing Record 555 | miramar\n",
      "Processing Record 556 | inverell\n",
      "Processing Record 557 | nauta\n",
      "Processing Record 558 | nuqui\n",
      "Processing Record 559 | dingle\n",
      "Processing Record 560 | contamana\n",
      "Processing Record 561 | saldanha\n",
      "Processing Record 562 | lerwick\n",
      "Processing Record 563 | rockland\n",
      "Processing Record 564 | mareeba\n",
      "Processing Record 565 | grao mogol\n",
      "Processing Record 566 | labuhan\n",
      "Processing Record 567 | saint anthony\n",
      "City not found. Skipping...\n",
      "Processing Record 569 | yakeshi\n",
      "Processing Record 570 | cascais\n",
      "Processing Record 571 | celestun\n",
      "Processing Record 572 | ruzomberok\n",
      "Processing Record 573 | bowen\n",
      "Processing Record 574 | broken hill\n",
      "City not found. Skipping...\n",
      "Processing Record 576 | astana\n",
      "Processing Record 577 | kuching\n",
      "Processing Record 578 | mahibadhoo\n",
      "Processing Record 579 | ibra\n",
      "City not found. Skipping...\n",
      "Processing Record 581 | molokovo\n",
      "Processing Record 582 | bandarbeyla\n",
      "Processing Record 583 | lakewood\n",
      "City not found. Skipping...\n",
      "Processing Record 585 | manokwari\n",
      "Processing Record 586 | herat\n",
      "Processing Record 587 | imbituba\n",
      "Processing Record 588 | yeppoon\n",
      "Processing Record 589 | walvis bay\n",
      "Processing Record 590 | sernovodskoye\n",
      "Processing Record 591 | aykhal\n",
      "Processing Record 592 | lar\n",
      "Processing Record 593 | mitu\n",
      "City not found. Skipping...\n",
      "Processing Record 595 | puerto del rosario\n",
      "Processing Record 596 | anadyr\n",
      "Processing Record 597 | lundazi\n",
      "Processing Record 598 | paamiut\n",
      "Processing Record 599 | port macquarie\n",
      "Processing Record 600 | chapayevka\n",
      "Processing Record 601 | whyalla\n",
      "Processing Record 602 | evansville\n",
      "Processing Record 603 | kemin\n",
      "Processing Record 604 | ulaangom\n",
      "Processing Record 605 | kilindoni\n",
      "Processing Record 606 | quatre cocos\n",
      "Processing Record 607 | isiro\n",
      "Processing Record 608 | manjacaze\n",
      "Processing Record 609 | talara\n",
      "Processing Record 610 | shar\n",
      "Processing Record 611 | champaign\n",
      "Processing Record 612 | ozark\n",
      "Processing Record 613 | raciborz\n",
      "Processing Record 614 | changji\n",
      "Processing Record 615 | whitehorse\n",
      "Processing Record 616 | yabrud\n",
      "Processing Record 617 | shaoyang\n",
      "Processing Record 618 | la libertad\n",
      "Processing Record 619 | namatanai\n",
      "Processing Record 620 | okhotsk\n",
      "Processing Record 621 | santa luzia\n",
      "Processing Record 622 | henties bay\n",
      "Processing Record 623 | bardiyah\n",
      "Processing Record 624 | monrovia\n",
      "Processing Record 625 | vengurla\n",
      "Processing Record 626 | pokhara\n",
      "Processing Record 627 | miyako\n",
      "Processing Record 628 | cravo norte\n",
      "Processing Record 629 | kropotkin\n",
      "Processing Record 630 | isangel\n",
      "Processing Record 631 | shizuishan\n",
      "-----------------------------\n",
      "Data Retrieval Complete\n",
      "-----------------------------\n"
     ]
    }
   ],
   "source": [
    "print(\"Beginning Data Retrieval\\n-----------------------------\\n\")\n",
    "\n",
    "# Save config information.\n",
    "url = \"http://api.openweathermap.org/data/2.5/weather?\"\n",
    "units = \"imperial\"\n",
    "\n",
    "# Build partial query URL\n",
    "query_url = f\"{url}appid={weather_api_key}&units={units}&q=\"\n",
    "\n",
    "responses = []\n",
    "\n",
    "i = 0\n",
    "for city in cities:\n",
    "    i = i + 1\n",
    "    response = requests.get(query_url + city).json()\n",
    "    if response['cod'] == 200:\n",
    "        print(f\"Processing Record {i} | {city}\")\n",
    "        responses.append(response)\n",
    "    else:\n",
    "        print(\"City not found. Skipping...\")\n",
    "print(\"-----------------------------\\nData Retrieval Complete\\n-----------------------------\")"
   ]
  },
  {
   "cell_type": "code",
   "execution_count": 4,
   "metadata": {},
   "outputs": [
    {
     "data": {
      "text/plain": [
       "584"
      ]
     },
     "execution_count": 4,
     "metadata": {},
     "output_type": "execute_result"
    }
   ],
   "source": [
    "len(responses)"
   ]
  },
  {
   "cell_type": "markdown",
   "metadata": {},
   "source": [
    "### Convert Raw Data to DataFrame\n",
    "* Export the city data into a .csv.\n",
    "* Display the DataFrame"
   ]
  },
  {
   "cell_type": "code",
   "execution_count": 15,
   "metadata": {},
   "outputs": [],
   "source": [
    "city_name_df = []\n",
    "cloudiness_df = []\n",
    "country_df = []\n",
    "date_df = []\n",
    "humidity_df = []\n",
    "lat_df = []\n",
    "lng_df = []\n",
    "max_temp_df = []\n",
    "wind_speed_df = []"
   ]
  },
  {
   "cell_type": "code",
   "execution_count": 22,
   "metadata": {},
   "outputs": [
    {
     "data": {
      "text/html": [
       "<div>\n",
       "<style scoped>\n",
       "    .dataframe tbody tr th:only-of-type {\n",
       "        vertical-align: middle;\n",
       "    }\n",
       "\n",
       "    .dataframe tbody tr th {\n",
       "        vertical-align: top;\n",
       "    }\n",
       "\n",
       "    .dataframe thead th {\n",
       "        text-align: right;\n",
       "    }\n",
       "</style>\n",
       "<table border=\"1\" class=\"dataframe\">\n",
       "  <thead>\n",
       "    <tr style=\"text-align: right;\">\n",
       "      <th></th>\n",
       "      <th>City</th>\n",
       "      <th>Cloudiness</th>\n",
       "      <th>Country</th>\n",
       "      <th>Date</th>\n",
       "      <th>Humidity</th>\n",
       "      <th>Lat</th>\n",
       "      <th>Lng</th>\n",
       "      <th>Max Temp</th>\n",
       "      <th>Wind Speed</th>\n",
       "    </tr>\n",
       "  </thead>\n",
       "  <tbody>\n",
       "    <tr>\n",
       "      <th>0</th>\n",
       "      <td>Katangli</td>\n",
       "      <td>0</td>\n",
       "      <td>RU</td>\n",
       "      <td>1600017124</td>\n",
       "      <td>91</td>\n",
       "      <td>51.71</td>\n",
       "      <td>143.23</td>\n",
       "      <td>48.22</td>\n",
       "      <td>6.69</td>\n",
       "    </tr>\n",
       "    <tr>\n",
       "      <th>1</th>\n",
       "      <td>Punta Arenas</td>\n",
       "      <td>40</td>\n",
       "      <td>CL</td>\n",
       "      <td>1600016984</td>\n",
       "      <td>61</td>\n",
       "      <td>-53.15</td>\n",
       "      <td>-70.92</td>\n",
       "      <td>46.40</td>\n",
       "      <td>16.11</td>\n",
       "    </tr>\n",
       "    <tr>\n",
       "      <th>2</th>\n",
       "      <td>Conceição do Araguaia</td>\n",
       "      <td>69</td>\n",
       "      <td>BR</td>\n",
       "      <td>1600017124</td>\n",
       "      <td>12</td>\n",
       "      <td>-8.26</td>\n",
       "      <td>-49.26</td>\n",
       "      <td>106.86</td>\n",
       "      <td>4.07</td>\n",
       "    </tr>\n",
       "    <tr>\n",
       "      <th>3</th>\n",
       "      <td>Albany</td>\n",
       "      <td>58</td>\n",
       "      <td>US</td>\n",
       "      <td>1600017096</td>\n",
       "      <td>64</td>\n",
       "      <td>42.60</td>\n",
       "      <td>-73.97</td>\n",
       "      <td>73.99</td>\n",
       "      <td>1.01</td>\n",
       "    </tr>\n",
       "    <tr>\n",
       "      <th>4</th>\n",
       "      <td>Bluff</td>\n",
       "      <td>100</td>\n",
       "      <td>NZ</td>\n",
       "      <td>1600017036</td>\n",
       "      <td>98</td>\n",
       "      <td>-46.60</td>\n",
       "      <td>168.33</td>\n",
       "      <td>46.99</td>\n",
       "      <td>5.99</td>\n",
       "    </tr>\n",
       "  </tbody>\n",
       "</table>\n",
       "</div>"
      ],
      "text/plain": [
       "                    City  Cloudiness Country        Date  Humidity    Lat  \\\n",
       "0               Katangli           0      RU  1600017124        91  51.71   \n",
       "1           Punta Arenas          40      CL  1600016984        61 -53.15   \n",
       "2  Conceição do Araguaia          69      BR  1600017124        12  -8.26   \n",
       "3                 Albany          58      US  1600017096        64  42.60   \n",
       "4                  Bluff         100      NZ  1600017036        98 -46.60   \n",
       "\n",
       "      Lng  Max Temp  Wind Speed  \n",
       "0  143.23     48.22        6.69  \n",
       "1  -70.92     46.40       16.11  \n",
       "2  -49.26    106.86        4.07  \n",
       "3  -73.97     73.99        1.01  \n",
       "4  168.33     46.99        5.99  "
      ]
     },
     "execution_count": 22,
     "metadata": {},
     "output_type": "execute_result"
    }
   ],
   "source": [
    "for resp in responses:\n",
    "    city_name_df.append(resp['name'])\n",
    "    cloudiness_df.append(resp['clouds']['all'])\n",
    "    country_df.append(resp['sys']['country'])\n",
    "    date_df.append(resp['dt'])\n",
    "    humidity_df.append(resp['main']['humidity'])\n",
    "    lat_df.append(resp['coord']['lat'])\n",
    "    lng_df.append(resp['coord']['lon'])\n",
    "    max_temp_df.append(resp['main']['temp_max'])\n",
    "    wind_speed_df.append(resp['wind']['speed'])\n",
    "    \n",
    "city_data_dict = {\n",
    "    'City': city_name_df,\n",
    "    'Cloudiness': cloudiness_df,\n",
    "    'Country': country_df,\n",
    "    'Date': date_df,\n",
    "    'Humidity': humidity_df,\n",
    "    'Lat': lat_df,\n",
    "    'Lng': lng_df,\n",
    "    'Max Temp': max_temp_df,\n",
    "    'Wind Speed': wind_speed_df\n",
    "}\n",
    "\n",
    "city_data_df = pd.DataFrame(city_data_dict)\n",
    "\n",
    "city_data_df.to_csv(\"city_data.csv\", header = True)\n",
    "\n",
    "city_data_df.head(5) "
   ]
  },
  {
   "cell_type": "code",
   "execution_count": 16,
   "metadata": {},
   "outputs": [
    {
     "data": {
      "text/html": [
       "<div>\n",
       "<style scoped>\n",
       "    .dataframe tbody tr th:only-of-type {\n",
       "        vertical-align: middle;\n",
       "    }\n",
       "\n",
       "    .dataframe tbody tr th {\n",
       "        vertical-align: top;\n",
       "    }\n",
       "\n",
       "    .dataframe thead th {\n",
       "        text-align: right;\n",
       "    }\n",
       "</style>\n",
       "<table border=\"1\" class=\"dataframe\">\n",
       "  <thead>\n",
       "    <tr style=\"text-align: right;\">\n",
       "      <th></th>\n",
       "      <th>Lat</th>\n",
       "      <th>Lng</th>\n",
       "      <th>Max Temp</th>\n",
       "      <th>Humidity</th>\n",
       "      <th>Cloudiness</th>\n",
       "      <th>Wind Speed</th>\n",
       "      <th>Date</th>\n",
       "    </tr>\n",
       "  </thead>\n",
       "  <tbody>\n",
       "    <tr>\n",
       "      <td>count</td>\n",
       "      <td>599.000000</td>\n",
       "      <td>599.000000</td>\n",
       "      <td>599.000000</td>\n",
       "      <td>599.000000</td>\n",
       "      <td>599.000000</td>\n",
       "      <td>599.000000</td>\n",
       "      <td>5.990000e+02</td>\n",
       "    </tr>\n",
       "    <tr>\n",
       "      <td>mean</td>\n",
       "      <td>19.877028</td>\n",
       "      <td>19.568998</td>\n",
       "      <td>69.794808</td>\n",
       "      <td>69.353923</td>\n",
       "      <td>51.569282</td>\n",
       "      <td>7.979416</td>\n",
       "      <td>1.593605e+09</td>\n",
       "    </tr>\n",
       "    <tr>\n",
       "      <td>std</td>\n",
       "      <td>33.262944</td>\n",
       "      <td>91.418472</td>\n",
       "      <td>15.678452</td>\n",
       "      <td>22.704698</td>\n",
       "      <td>35.405602</td>\n",
       "      <td>5.660694</td>\n",
       "      <td>5.738815e+01</td>\n",
       "    </tr>\n",
       "    <tr>\n",
       "      <td>min</td>\n",
       "      <td>-54.800000</td>\n",
       "      <td>-179.170000</td>\n",
       "      <td>12.200000</td>\n",
       "      <td>7.000000</td>\n",
       "      <td>0.000000</td>\n",
       "      <td>0.360000</td>\n",
       "      <td>1.593605e+09</td>\n",
       "    </tr>\n",
       "    <tr>\n",
       "      <td>25%</td>\n",
       "      <td>-8.540000</td>\n",
       "      <td>-61.210000</td>\n",
       "      <td>59.000000</td>\n",
       "      <td>55.000000</td>\n",
       "      <td>20.000000</td>\n",
       "      <td>3.620000</td>\n",
       "      <td>1.593605e+09</td>\n",
       "    </tr>\n",
       "    <tr>\n",
       "      <td>50%</td>\n",
       "      <td>24.370000</td>\n",
       "      <td>24.670000</td>\n",
       "      <td>73.110000</td>\n",
       "      <td>75.000000</td>\n",
       "      <td>59.000000</td>\n",
       "      <td>6.730000</td>\n",
       "      <td>1.593605e+09</td>\n",
       "    </tr>\n",
       "    <tr>\n",
       "      <td>75%</td>\n",
       "      <td>46.585000</td>\n",
       "      <td>102.255000</td>\n",
       "      <td>80.600000</td>\n",
       "      <td>87.000000</td>\n",
       "      <td>85.000000</td>\n",
       "      <td>11.050000</td>\n",
       "      <td>1.593605e+09</td>\n",
       "    </tr>\n",
       "    <tr>\n",
       "      <td>max</td>\n",
       "      <td>78.220000</td>\n",
       "      <td>179.320000</td>\n",
       "      <td>116.600000</td>\n",
       "      <td>100.000000</td>\n",
       "      <td>100.000000</td>\n",
       "      <td>42.500000</td>\n",
       "      <td>1.593605e+09</td>\n",
       "    </tr>\n",
       "  </tbody>\n",
       "</table>\n",
       "</div>"
      ],
      "text/plain": [
       "              Lat         Lng    Max Temp    Humidity  Cloudiness  Wind Speed  \\\n",
       "count  599.000000  599.000000  599.000000  599.000000  599.000000  599.000000   \n",
       "mean    19.877028   19.568998   69.794808   69.353923   51.569282    7.979416   \n",
       "std     33.262944   91.418472   15.678452   22.704698   35.405602    5.660694   \n",
       "min    -54.800000 -179.170000   12.200000    7.000000    0.000000    0.360000   \n",
       "25%     -8.540000  -61.210000   59.000000   55.000000   20.000000    3.620000   \n",
       "50%     24.370000   24.670000   73.110000   75.000000   59.000000    6.730000   \n",
       "75%     46.585000  102.255000   80.600000   87.000000   85.000000   11.050000   \n",
       "max     78.220000  179.320000  116.600000  100.000000  100.000000   42.500000   \n",
       "\n",
       "               Date  \n",
       "count  5.990000e+02  \n",
       "mean   1.593605e+09  \n",
       "std    5.738815e+01  \n",
       "min    1.593605e+09  \n",
       "25%    1.593605e+09  \n",
       "50%    1.593605e+09  \n",
       "75%    1.593605e+09  \n",
       "max    1.593605e+09  "
      ]
     },
     "execution_count": 16,
     "metadata": {},
     "output_type": "execute_result"
    }
   ],
   "source": []
  },
  {
   "cell_type": "markdown",
   "metadata": {},
   "source": [
    "## Inspect the data and remove the cities where the humidity > 100%.\n",
    "----\n",
    "Skip this step if there are no cities that have humidity > 100%. "
   ]
  },
  {
   "cell_type": "code",
   "execution_count": 6,
   "metadata": {},
   "outputs": [
    {
     "data": {
      "text/html": [
       "<div>\n",
       "<style scoped>\n",
       "    .dataframe tbody tr th:only-of-type {\n",
       "        vertical-align: middle;\n",
       "    }\n",
       "\n",
       "    .dataframe tbody tr th {\n",
       "        vertical-align: top;\n",
       "    }\n",
       "\n",
       "    .dataframe thead th {\n",
       "        text-align: right;\n",
       "    }\n",
       "</style>\n",
       "<table border=\"1\" class=\"dataframe\">\n",
       "  <thead>\n",
       "    <tr style=\"text-align: right;\">\n",
       "      <th></th>\n",
       "      <th>Lat</th>\n",
       "      <th>Lng</th>\n",
       "      <th>Max Temp</th>\n",
       "      <th>Humidity</th>\n",
       "      <th>Cloudiness</th>\n",
       "      <th>Wind Speed</th>\n",
       "      <th>Date</th>\n",
       "    </tr>\n",
       "  </thead>\n",
       "  <tbody>\n",
       "    <tr>\n",
       "      <th>count</th>\n",
       "      <td>550.000000</td>\n",
       "      <td>550.000000</td>\n",
       "      <td>550.000000</td>\n",
       "      <td>550.000000</td>\n",
       "      <td>550.000000</td>\n",
       "      <td>550.000000</td>\n",
       "      <td>5.500000e+02</td>\n",
       "    </tr>\n",
       "    <tr>\n",
       "      <th>mean</th>\n",
       "      <td>19.973545</td>\n",
       "      <td>17.124400</td>\n",
       "      <td>58.331400</td>\n",
       "      <td>67.890909</td>\n",
       "      <td>52.141818</td>\n",
       "      <td>8.544800</td>\n",
       "      <td>1.585764e+09</td>\n",
       "    </tr>\n",
       "    <tr>\n",
       "      <th>std</th>\n",
       "      <td>33.284840</td>\n",
       "      <td>91.595451</td>\n",
       "      <td>25.795297</td>\n",
       "      <td>20.864881</td>\n",
       "      <td>35.766469</td>\n",
       "      <td>6.078869</td>\n",
       "      <td>5.539674e+01</td>\n",
       "    </tr>\n",
       "    <tr>\n",
       "      <th>min</th>\n",
       "      <td>-54.800000</td>\n",
       "      <td>-179.170000</td>\n",
       "      <td>-11.340000</td>\n",
       "      <td>9.000000</td>\n",
       "      <td>0.000000</td>\n",
       "      <td>0.160000</td>\n",
       "      <td>1.585764e+09</td>\n",
       "    </tr>\n",
       "    <tr>\n",
       "      <th>25%</th>\n",
       "      <td>-8.077500</td>\n",
       "      <td>-64.627500</td>\n",
       "      <td>42.800000</td>\n",
       "      <td>55.000000</td>\n",
       "      <td>20.000000</td>\n",
       "      <td>4.525000</td>\n",
       "      <td>1.585764e+09</td>\n",
       "    </tr>\n",
       "    <tr>\n",
       "      <th>50%</th>\n",
       "      <td>23.630000</td>\n",
       "      <td>19.635000</td>\n",
       "      <td>64.940000</td>\n",
       "      <td>72.000000</td>\n",
       "      <td>57.000000</td>\n",
       "      <td>7.325000</td>\n",
       "      <td>1.585764e+09</td>\n",
       "    </tr>\n",
       "    <tr>\n",
       "      <th>75%</th>\n",
       "      <td>48.672500</td>\n",
       "      <td>97.350000</td>\n",
       "      <td>78.800000</td>\n",
       "      <td>83.000000</td>\n",
       "      <td>86.750000</td>\n",
       "      <td>11.410000</td>\n",
       "      <td>1.585764e+09</td>\n",
       "    </tr>\n",
       "    <tr>\n",
       "      <th>max</th>\n",
       "      <td>78.220000</td>\n",
       "      <td>179.320000</td>\n",
       "      <td>102.200000</td>\n",
       "      <td>100.000000</td>\n",
       "      <td>100.000000</td>\n",
       "      <td>46.080000</td>\n",
       "      <td>1.585764e+09</td>\n",
       "    </tr>\n",
       "  </tbody>\n",
       "</table>\n",
       "</div>"
      ],
      "text/plain": [
       "              Lat         Lng    Max Temp    Humidity  Cloudiness  Wind Speed  \\\n",
       "count  550.000000  550.000000  550.000000  550.000000  550.000000  550.000000   \n",
       "mean    19.973545   17.124400   58.331400   67.890909   52.141818    8.544800   \n",
       "std     33.284840   91.595451   25.795297   20.864881   35.766469    6.078869   \n",
       "min    -54.800000 -179.170000  -11.340000    9.000000    0.000000    0.160000   \n",
       "25%     -8.077500  -64.627500   42.800000   55.000000   20.000000    4.525000   \n",
       "50%     23.630000   19.635000   64.940000   72.000000   57.000000    7.325000   \n",
       "75%     48.672500   97.350000   78.800000   83.000000   86.750000   11.410000   \n",
       "max     78.220000  179.320000  102.200000  100.000000  100.000000   46.080000   \n",
       "\n",
       "               Date  \n",
       "count  5.500000e+02  \n",
       "mean   1.585764e+09  \n",
       "std    5.539674e+01  \n",
       "min    1.585764e+09  \n",
       "25%    1.585764e+09  \n",
       "50%    1.585764e+09  \n",
       "75%    1.585764e+09  \n",
       "max    1.585764e+09  "
      ]
     },
     "execution_count": 6,
     "metadata": {},
     "output_type": "execute_result"
    }
   ],
   "source": [
    "#none"
   ]
  },
  {
   "cell_type": "code",
   "execution_count": 17,
   "metadata": {},
   "outputs": [
    {
     "data": {
      "text/plain": [
       "Int64Index([], dtype='int64')"
      ]
     },
     "execution_count": 17,
     "metadata": {},
     "output_type": "execute_result"
    }
   ],
   "source": [
    "#  Get the indices of cities that have humidity over 100%.\n"
   ]
  },
  {
   "cell_type": "code",
   "execution_count": 19,
   "metadata": {},
   "outputs": [
    {
     "data": {
      "text/html": [
       "<div>\n",
       "<style scoped>\n",
       "    .dataframe tbody tr th:only-of-type {\n",
       "        vertical-align: middle;\n",
       "    }\n",
       "\n",
       "    .dataframe tbody tr th {\n",
       "        vertical-align: top;\n",
       "    }\n",
       "\n",
       "    .dataframe thead th {\n",
       "        text-align: right;\n",
       "    }\n",
       "</style>\n",
       "<table border=\"1\" class=\"dataframe\">\n",
       "  <thead>\n",
       "    <tr style=\"text-align: right;\">\n",
       "      <th></th>\n",
       "      <th>City</th>\n",
       "      <th>Lat</th>\n",
       "      <th>Lng</th>\n",
       "      <th>Max Temp</th>\n",
       "      <th>Humidity</th>\n",
       "      <th>Cloudiness</th>\n",
       "      <th>Wind Speed</th>\n",
       "      <th>Country</th>\n",
       "      <th>Date</th>\n",
       "    </tr>\n",
       "  </thead>\n",
       "  <tbody>\n",
       "    <tr>\n",
       "      <td>0</td>\n",
       "      <td>butaritari</td>\n",
       "      <td>3.07</td>\n",
       "      <td>172.79</td>\n",
       "      <td>83.32</td>\n",
       "      <td>74</td>\n",
       "      <td>84</td>\n",
       "      <td>10.42</td>\n",
       "      <td>KI</td>\n",
       "      <td>1593605283</td>\n",
       "    </tr>\n",
       "    <tr>\n",
       "      <td>1</td>\n",
       "      <td>yerbogachen</td>\n",
       "      <td>61.28</td>\n",
       "      <td>108.01</td>\n",
       "      <td>79.52</td>\n",
       "      <td>58</td>\n",
       "      <td>20</td>\n",
       "      <td>7.70</td>\n",
       "      <td>RU</td>\n",
       "      <td>1593605121</td>\n",
       "    </tr>\n",
       "    <tr>\n",
       "      <td>2</td>\n",
       "      <td>cape town</td>\n",
       "      <td>-33.93</td>\n",
       "      <td>18.42</td>\n",
       "      <td>73.00</td>\n",
       "      <td>77</td>\n",
       "      <td>27</td>\n",
       "      <td>4.70</td>\n",
       "      <td>ZA</td>\n",
       "      <td>1593605039</td>\n",
       "    </tr>\n",
       "    <tr>\n",
       "      <td>3</td>\n",
       "      <td>touba</td>\n",
       "      <td>8.28</td>\n",
       "      <td>-7.68</td>\n",
       "      <td>79.97</td>\n",
       "      <td>75</td>\n",
       "      <td>82</td>\n",
       "      <td>3.58</td>\n",
       "      <td>CI</td>\n",
       "      <td>1593605284</td>\n",
       "    </tr>\n",
       "    <tr>\n",
       "      <td>4</td>\n",
       "      <td>jamestown</td>\n",
       "      <td>42.10</td>\n",
       "      <td>-79.24</td>\n",
       "      <td>64.00</td>\n",
       "      <td>88</td>\n",
       "      <td>1</td>\n",
       "      <td>6.93</td>\n",
       "      <td>US</td>\n",
       "      <td>1593605284</td>\n",
       "    </tr>\n",
       "  </tbody>\n",
       "</table>\n",
       "</div>"
      ],
      "text/plain": [
       "          City    Lat     Lng  Max Temp  Humidity  Cloudiness  Wind Speed  \\\n",
       "0   butaritari   3.07  172.79     83.32        74          84       10.42   \n",
       "1  yerbogachen  61.28  108.01     79.52        58          20        7.70   \n",
       "2    cape town -33.93   18.42     73.00        77          27        4.70   \n",
       "3        touba   8.28   -7.68     79.97        75          82        3.58   \n",
       "4    jamestown  42.10  -79.24     64.00        88           1        6.93   \n",
       "\n",
       "  Country        Date  \n",
       "0      KI  1593605283  \n",
       "1      RU  1593605121  \n",
       "2      ZA  1593605039  \n",
       "3      CI  1593605284  \n",
       "4      US  1593605284  "
      ]
     },
     "execution_count": 19,
     "metadata": {},
     "output_type": "execute_result"
    }
   ],
   "source": [
    "# Make a new DataFrame equal to the city data to drop all humidity outliers by index.\n",
    "# Passing \"inplace=False\" will make a copy of the city_data DataFrame, which we call \"clean_city_data\".\n"
   ]
  },
  {
   "cell_type": "code",
   "execution_count": null,
   "metadata": {},
   "outputs": [],
   "source": [
    "\n"
   ]
  },
  {
   "cell_type": "markdown",
   "metadata": {},
   "source": [
    "## Plotting the Data\n",
    "* Use proper labeling of the plots using plot titles (including date of analysis) and axes labels.\n",
    "* Save the plotted figures as .pngs."
   ]
  },
  {
   "cell_type": "markdown",
   "metadata": {},
   "source": [
    "## Latitude vs. Temperature Plot"
   ]
  },
  {
   "cell_type": "code",
   "execution_count": 30,
   "metadata": {
    "scrolled": true
   },
   "outputs": [
    {
     "data": {
      "text/plain": [
       "Text(0.5, 1.0, 'City Latitude vs. Max Temperature')"
      ]
     },
     "execution_count": 30,
     "metadata": {},
     "output_type": "execute_result"
    },
    {
     "data": {
      "image/png": "[encoded data removed]",
      "text/plain": [
       "<Figure size 432x288 with 1 Axes>"
      ]
     },
     "metadata": {
      "needs_background": "light"
     },
     "output_type": "display_data"
    }
   ],
   "source": [
    "x_values = city_data_df[\"Lat\"]\n",
    "y_values = city_data_df[\"Max Temp\"]\n",
    "plt.scatter(x_values, y_values, edgecolors = \"black\", facecolor = \"red\")\n",
    "plt.xlabel(\"Latitude\")\n",
    "plt.ylabel(\"Max Temperature (F)\")\n",
    "plt.grid()\n",
    "plt.title(\"City Latitude vs. Max Temperature\")\n"
   ]
  },
  {
   "cell_type": "markdown",
   "metadata": {},
   "source": [
    "## Latitude vs. Humidity Plot"
   ]
  },
  {
   "cell_type": "code",
   "execution_count": 33,
   "metadata": {},
   "outputs": [
    {
     "data": {
      "text/plain": [
       "Text(0.5, 1.0, 'City Latitude vs. Humidity')"
      ]
     },
     "execution_count": 33,
     "metadata": {},
     "output_type": "execute_result"
    },
    {
     "data": {
      "image/png": "[encoded data removed]",
      "text/plain": [
       "<Figure size 432x288 with 1 Axes>"
      ]
     },
     "metadata": {
      "needs_background": "light"
     },
     "output_type": "display_data"
    }
   ],
   "source": [
    " x_values = city_data_df[\"Lat\"]\n",
    "y_values = city_data_df[\"Humidity\"]\n",
    "plt.scatter(x_values, y_values, edgecolors='black', facecolor= \"yellow\")\n",
    "plt.xlabel(\"Latitude\")\n",
    "plt.ylabel(\"Humidity (%)\")\n",
    "plt.grid()\n",
    "plt.title(\"City Latitude vs. Humidity\")"
   ]
  },
  {
   "cell_type": "markdown",
   "metadata": {},
   "source": [
    "## Latitude vs. Cloudiness Plot"
   ]
  },
  {
   "cell_type": "code",
   "execution_count": 35,
   "metadata": {},
   "outputs": [
    {
     "data": {
      "text/plain": [
       "Text(0.5, 1.0, 'City Latitude vs. Cloudiness')"
      ]
     },
     "execution_count": 35,
     "metadata": {},
     "output_type": "execute_result"
    },
    {
     "data": {
      "image/png": "[encoded data removed]",
      "text/plain": [
       "<Figure size 432x288 with 1 Axes>"
      ]
     },
     "metadata": {
      "needs_background": "light"
     },
     "output_type": "display_data"
    }
   ],
   "source": [
    "x_values = city_data_df[\"Lat\"]\n",
    "y_values = city_data_df[\"Cloudiness\"]\n",
    "plt.scatter(x_values, y_values, edgecolors=\"black\", facecolor =\"cyan\")\n",
    "plt.xlabel(\"Latitude\")\n",
    "plt.ylabel(\"Cloudiness (%)\")\n",
    "plt.grid()\n",
    "plt.title(\"City Latitude vs. Cloudiness\")"
   ]
  },
  {
   "cell_type": "markdown",
   "metadata": {},
   "source": [
    "## Latitude vs. Wind Speed Plot"
   ]
  },
  {
   "cell_type": "code",
   "execution_count": 36,
   "metadata": {},
   "outputs": [
    {
     "data": {
      "text/plain": [
       "Text(0.5, 1.0, 'City Latitude vs. Wind Speed')"
      ]
     },
     "execution_count": 36,
     "metadata": {},
     "output_type": "execute_result"
    },
    {
     "data": {
      "image/png": "[encoded data removed]",
      "text/plain": [
       "<Figure size 432x288 with 1 Axes>"
      ]
     },
     "metadata": {
      "needs_background": "light"
     },
     "output_type": "display_data"
    }
   ],
   "source": [
    "x_values = city_data_df[\"Lat\"]\n",
    "y_values = city_data_df[\"Wind Speed\"]\n",
    "plt.scatter(x_values, y_values, edgecolors=\"black\", facecolor =\"green\")\n",
    "plt.xlabel(\"Latitude\")\n",
    "plt.ylabel(\"Wind Speed (mph)\")\n",
    "plt.grid()\n",
    "plt.title(\"City Latitude vs. Wind Speed\")"
   ]
  },
  {
   "cell_type": "markdown",
   "metadata": {},
   "source": [
    "## Linear Regression"
   ]
  },
  {
   "cell_type": "code",
   "execution_count": 37,
   "metadata": {},
   "outputs": [],
   "source": [
    "def linear_reg_plot(df, title_name, y_column_name, y_label, file_name, xy):\n",
    "    x_values = df[\"Lat\"]\n",
    "    y_values = df[y_column_name]\n",
    "    (slope, intercept, rvalue, pvalue, stderr) = linregress(x_values, y_values)\n",
    "    regress_values = x_values * slope + intercept\n",
    "    line_eq = \"y = \" + str(round(slope,2)) + \"x +\" + str(round(intercept,2))\n",
    "    plt.scatter(x_values,y_values)\n",
    "    plt.plot(x_values,regress_values,\"r-\")\n",
    "    plt.xlabel(\"Latitude\")\n",
    "    plt.ylabel(y_label)\n",
    "    plt.annotate(line_eq,xy,fontsize=15,color=\"red\")\n",
    "    plt.title(title_name)\n",
    "    \n",
    "    print(f\"The r-squared is: {rvalue}\")"
   ]
  },
  {
   "cell_type": "code",
   "execution_count": 38,
   "metadata": {},
   "outputs": [],
   "source": [
    "northern_hemisphere_df = city_data_df.loc[city_data_df[\"Lat\"] > 0, :]\n",
    "southern_hemisphere_df = city_data_df.loc[city_data_df[\"Lat\"] < 0, :]"
   ]
  },
  {
   "cell_type": "markdown",
   "metadata": {},
   "source": [
    "####  Northern Hemisphere - Max Temp vs. Latitude Linear Regression"
   ]
  },
  {
   "cell_type": "code",
   "execution_count": 56,
   "metadata": {},
   "outputs": [
    {
     "name": "stdout",
     "output_type": "stream",
     "text": [
      "The r-squared is: -0.8020489132896084\n"
     ]
    },
    {
     "data": {
      "image/png": "[encoded data removed]",
      "text/plain": [
       "<Figure size 432x288 with 1 Axes>"
      ]
     },
     "metadata": {
      "needs_background": "light"
     },
     "output_type": "display_data"
    }
   ],
   "source": [
    "linear_reg_plot(northern_hemisphere_df, 'Northern Max Temp Vs Latitude Regression', 'Max Temp', 'Max Temp','output_data/NorthernMaxTempVsLatitudeReg.png', (10,0))"
   ]
  },
  {
   "cell_type": "markdown",
   "metadata": {},
   "source": [
    "####  Southern Hemisphere - Max Temp vs. Latitude Linear Regression"
   ]
  },
  {
   "cell_type": "code",
   "execution_count": 58,
   "metadata": {},
   "outputs": [
    {
     "name": "stdout",
     "output_type": "stream",
     "text": [
      "The r-squared is: 0.7811733221698866\n"
     ]
    },
    {
     "data": {
      "image/png": "[encoded data removed]",
      "text/plain": [
       "<Figure size 432x288 with 1 Axes>"
      ]
     },
     "metadata": {
      "needs_background": "light"
     },
     "output_type": "display_data"
    }
   ],
   "source": [
    "linear_reg_plot(southern_hemisphere_df, 'Southern Max Temp Vs Latitude Regression', 'Max Temp', 'Max Temp', 'output_data/SouthernMaxTempVsLatitudeReg.png', (10,0))"
   ]
  },
  {
   "cell_type": "markdown",
   "metadata": {},
   "source": [
    "####  Northern Hemisphere - Humidity (%) vs. Latitude Linear Regression"
   ]
  },
  {
   "cell_type": "code",
   "execution_count": 59,
   "metadata": {},
   "outputs": [
    {
     "name": "stdout",
     "output_type": "stream",
     "text": [
      "The r-squared is: 0.1333412704676779\n"
     ]
    },
    {
     "data": {
      "image/png": "[encoded data removed]",
      "text/plain": [
       "<Figure size 432x288 with 1 Axes>"
      ]
     },
     "metadata": {
      "needs_background": "light"
     },
     "output_type": "display_data"
    }
   ],
   "source": [
    "linear_reg_plot(northern_hemisphere_df, 'Northern Humidity Vs. Latitude Regression', 'Humidity', 'Humidity', 'output_data/NorthernHumidityVsLatitudeReg.png',(10,0))"
   ]
  },
  {
   "cell_type": "markdown",
   "metadata": {},
   "source": [
    "####  Southern Hemisphere - Humidity (%) vs. Latitude Linear Regression"
   ]
  },
  {
   "cell_type": "code",
   "execution_count": 60,
   "metadata": {},
   "outputs": [
    {
     "name": "stdout",
     "output_type": "stream",
     "text": [
      "The r-squared is: -0.12352298414626255\n"
     ]
    },
    {
     "data": {
      "image/png": "[encoded data removed]",
      "text/plain": [
       "<Figure size 432x288 with 1 Axes>"
      ]
     },
     "metadata": {
      "needs_background": "light"
     },
     "output_type": "display_data"
    }
   ],
   "source": [
    "linear_reg_plot(southern_hemisphere_df, 'Southern Humidity Vs. Latitude Regression', 'Humidity', 'Humidity', 'output_data/SouthernHumidityVsLatitudeReg.png', (10,0))"
   ]
  },
  {
   "cell_type": "markdown",
   "metadata": {},
   "source": [
    "####  Northern Hemisphere - Cloudiness (%) vs. Latitude Linear Regression"
   ]
  },
  {
   "cell_type": "code",
   "execution_count": 65,
   "metadata": {},
   "outputs": [
    {
     "name": "stdout",
     "output_type": "stream",
     "text": [
      "The r-squared is: -0.012652748073818462\n"
     ]
    },
    {
     "data": {
      "image/png": "[encoded data removed]",
      "text/plain": [
       "<Figure size 432x288 with 1 Axes>"
      ]
     },
     "metadata": {
      "needs_background": "light"
     },
     "output_type": "display_data"
    }
   ],
   "source": [
    "linear_reg_plot(northern_hemisphere_df, 'Northern Cloudiness Vs. Latitude Regression', 'Cloudiness', 'Cloudiness', 'output_data/NorthernCloudinessVsLatitudeReg.png', (10,0))"
   ]
  },
  {
   "cell_type": "markdown",
   "metadata": {},
   "source": [
    "####  Southern Hemisphere - Cloudiness (%) vs. Latitude Linear Regression"
   ]
  },
  {
   "cell_type": "code",
   "execution_count": 66,
   "metadata": {},
   "outputs": [
    {
     "name": "stdout",
     "output_type": "stream",
     "text": [
      "The r-squared is: 0.08069874963007818\n"
     ]
    },
    {
     "data": {
      "image/png": "[encoded data removed]",
      "text/plain": [
       "<Figure size 432x288 with 1 Axes>"
      ]
     },
     "metadata": {
      "needs_background": "light"
     },
     "output_type": "display_data"
    }
   ],
   "source": [
    "linear_reg_plot(southern_hemisphere_df, 'Southern Cloudiness Vs. Latitude Regression', 'Cloudiness', 'Cloudiness', 'output_data/SouthernCloudinessVsLatitudeReg.png', (10,0))"
   ]
  },
  {
   "cell_type": "markdown",
   "metadata": {},
   "source": [
    "####  Northern Hemisphere - Wind Speed (mph) vs. Latitude Linear Regression"
   ]
  },
  {
   "cell_type": "code",
   "execution_count": 67,
   "metadata": {},
   "outputs": [
    {
     "name": "stdout",
     "output_type": "stream",
     "text": [
      "The r-squared is: 0.0755557792617407\n"
     ]
    },
    {
     "data": {
      "image/png": "[encoded data removed]",
      "text/plain": [
       "<Figure size 432x288 with 1 Axes>"
      ]
     },
     "metadata": {
      "needs_background": "light"
     },
     "output_type": "display_data"
    }
   ],
   "source": [
    "linear_reg_plot(northern_hemisphere_df, 'Northern Wind Speed Vs. Latitude Regression', 'Wind Speed', 'Wind Speed', 'output_data/NorthernWindSpeedVsLatitudeReg.png', (10,0))"
   ]
  },
  {
   "cell_type": "markdown",
   "metadata": {},
   "source": [
    "####  Southern Hemisphere - Wind Speed (mph) vs. Latitude Linear Regression"
   ]
  },
  {
   "cell_type": "code",
   "execution_count": 68,
   "metadata": {},
   "outputs": [
    {
     "name": "stdout",
     "output_type": "stream",
     "text": [
      "The r-squared is: -0.08507546550710052\n"
     ]
    },
    {
     "data": {
      "image/png": "[encoded data removed]",
      "text/plain": [
       "<Figure size 432x288 with 1 Axes>"
      ]
     },
     "metadata": {
      "needs_background": "light"
     },
     "output_type": "display_data"
    }
   ],
   "source": [
    "linear_reg_plot(southern_hemisphere_df, 'Southern Wind Speed Vs. Southern Hemisphere', 'Wind Speed', 'Wind Speed', 'output_data/SouthernWindSpeedVsLatitudeReg.png', (10,0))"
   ]
  },
  {
   "cell_type": "code",
   "execution_count": null,
   "metadata": {},
   "outputs": [],
   "source": []
  }
 ],
 "metadata": {
  "anaconda-cloud": {},
  "kernel_info": {
   "name": "python3"
  },
  "kernelspec": {
   "display_name": "Python 3",
   "language": "python",
   "name": "python3"
  },
  "language_info": {
   "codemirror_mode": {
    "name": "ipython",
    "version": 3
   },
   "file_extension": ".py",
   "mimetype": "text/x-python",
   "name": "python",
   "nbconvert_exporter": "python",
   "pygments_lexer": "ipython3",
   "version": "3.8.3"
  },
  "latex_envs": {
   "LaTeX_envs_menu_present": true,
   "autoclose": false,
   "autocomplete": true,
   "bibliofile": "biblio.bib",
   "cite_by": "apalike",
   "current_citInitial": 1,
   "eqLabelWithNumbers": true,
   "eqNumInitial": 1,
   "hotkeys": {
    "equation": "Ctrl-E",
    "itemize": "Ctrl-I"
   },
   "labels_anchors": false,
   "latex_user_defs": false,
   "report_style_numbering": false,
   "user_envs_cfg": false
  },
  "nteract": {
   "version": "0.12.3"
  }
 },
 "nbformat": 4,
 "nbformat_minor": 2
}
